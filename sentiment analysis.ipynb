{
  "nbformat": 4,
  "nbformat_minor": 0,
  "metadata": {
    "colab": {
      "name": "Untitled1.ipynb",
      "provenance": [],
      "collapsed_sections": []
    },
    "kernelspec": {
      "name": "python3",
      "display_name": "Python 3"
    }
  },
  "cells": [
    {
      "cell_type": "code",
      "metadata": {
        "id": "odnkkMkkXwPJ",
        "colab_type": "code",
        "colab": {
          "base_uri": "https://localhost:8080/",
          "height": 195
        },
        "outputId": "2bd1c3d1-19b5-465a-ee6d-91da1bb2feb6"
      },
      "source": [
        "train = pd.read_csv('train.tsv', sep=\"\\t\")\n",
        "test = pd.read_csv('test.tsv', sep=\"\\t\")\n",
        " \n",
        "train_original = train.copy()\n",
        "test_original = test.copy()\n",
        " \n",
        " \n",
        "train.head()"
      ],
      "execution_count": null,
      "outputs": [
        {
          "output_type": "execute_result",
          "data": {
            "text/html": [
              "<div>\n",
              "<style scoped>\n",
              "    .dataframe tbody tr th:only-of-type {\n",
              "        vertical-align: middle;\n",
              "    }\n",
              "\n",
              "    .dataframe tbody tr th {\n",
              "        vertical-align: top;\n",
              "    }\n",
              "\n",
              "    .dataframe thead th {\n",
              "        text-align: right;\n",
              "    }\n",
              "</style>\n",
              "<table border=\"1\" class=\"dataframe\">\n",
              "  <thead>\n",
              "    <tr style=\"text-align: right;\">\n",
              "      <th></th>\n",
              "      <th>PhraseId</th>\n",
              "      <th>SentenceId</th>\n",
              "      <th>Phrase</th>\n",
              "      <th>Sentiment</th>\n",
              "    </tr>\n",
              "  </thead>\n",
              "  <tbody>\n",
              "    <tr>\n",
              "      <th>0</th>\n",
              "      <td>1</td>\n",
              "      <td>1</td>\n",
              "      <td>A series of escapades demonstrating the adage ...</td>\n",
              "      <td>1</td>\n",
              "    </tr>\n",
              "    <tr>\n",
              "      <th>1</th>\n",
              "      <td>2</td>\n",
              "      <td>1</td>\n",
              "      <td>A series of escapades demonstrating the adage ...</td>\n",
              "      <td>2</td>\n",
              "    </tr>\n",
              "    <tr>\n",
              "      <th>2</th>\n",
              "      <td>3</td>\n",
              "      <td>1</td>\n",
              "      <td>A series</td>\n",
              "      <td>2</td>\n",
              "    </tr>\n",
              "    <tr>\n",
              "      <th>3</th>\n",
              "      <td>4</td>\n",
              "      <td>1</td>\n",
              "      <td>A</td>\n",
              "      <td>2</td>\n",
              "    </tr>\n",
              "    <tr>\n",
              "      <th>4</th>\n",
              "      <td>5</td>\n",
              "      <td>1</td>\n",
              "      <td>series</td>\n",
              "      <td>2</td>\n",
              "    </tr>\n",
              "  </tbody>\n",
              "</table>\n",
              "</div>"
            ],
            "text/plain": [
              "   PhraseId  ...  Sentiment\n",
              "0         1  ...          1\n",
              "1         2  ...          2\n",
              "2         3  ...          2\n",
              "3         4  ...          2\n",
              "4         5  ...          2\n",
              "\n",
              "[5 rows x 4 columns]"
            ]
          },
          "metadata": {
            "tags": []
          },
          "execution_count": 4
        }
      ]
    },
    {
      "cell_type": "code",
      "metadata": {
        "id": "RI0cZ5KQVZ1N",
        "colab_type": "code",
        "colab": {
          "base_uri": "https://localhost:8080/",
          "height": 84
        },
        "outputId": "6bd19fd0-8904-4ade-e276-fc7a1f2ab446"
      },
      "source": [
        "import re\n",
        "import pandas as pd \n",
        "import numpy as np \n",
        "import matplotlib.pyplot as plt \n",
        "import seaborn as sns\n",
        "import string\n",
        "import nltk\n",
        "import nltk\n",
        "nltk.download('wordnet')\n",
        "nltk.download('stopwords')\n",
        " \n",
        "from nltk import PorterStemmer,WordNetLemmatizer\n",
        "from nltk.corpus import stopwords\n",
        " \n",
        " \n",
        "%matplotlib inline"
      ],
      "execution_count": null,
      "outputs": [
        {
          "output_type": "stream",
          "text": [
            "[nltk_data] Downloading package wordnet to /root/nltk_data...\n",
            "[nltk_data]   Package wordnet is already up-to-date!\n",
            "[nltk_data] Downloading package stopwords to /root/nltk_data...\n",
            "[nltk_data]   Unzipping corpora/stopwords.zip.\n"
          ],
          "name": "stdout"
        }
      ]
    },
    {
      "cell_type": "code",
      "metadata": {
        "id": "HWY5mfvGYT4_",
        "colab_type": "code",
        "colab": {
          "base_uri": "https://localhost:8080/",
          "height": 101
        },
        "outputId": "3049adaa-66b3-4152-b82b-fa9080fa91ff"
      },
      "source": [
        "train.isnull().sum()"
      ],
      "execution_count": null,
      "outputs": [
        {
          "output_type": "execute_result",
          "data": {
            "text/plain": [
              "PhraseId      0\n",
              "SentenceId    0\n",
              "Phrase        0\n",
              "Sentiment     0\n",
              "dtype: int64"
            ]
          },
          "metadata": {
            "tags": []
          },
          "execution_count": 5
        }
      ]
    },
    {
      "cell_type": "code",
      "metadata": {
        "id": "6POmhqjaYdKu",
        "colab_type": "code",
        "colab": {
          "base_uri": "https://localhost:8080/",
          "height": 202
        },
        "outputId": "bd4c3bd1-af56-4df0-9629-502232d5bf68"
      },
      "source": [
        "train.info()"
      ],
      "execution_count": null,
      "outputs": [
        {
          "output_type": "stream",
          "text": [
            "<class 'pandas.core.frame.DataFrame'>\n",
            "RangeIndex: 156060 entries, 0 to 156059\n",
            "Data columns (total 4 columns):\n",
            " #   Column      Non-Null Count   Dtype \n",
            "---  ------      --------------   ----- \n",
            " 0   PhraseId    156060 non-null  int64 \n",
            " 1   SentenceId  156060 non-null  int64 \n",
            " 2   Phrase      156060 non-null  object\n",
            " 3   Sentiment   156060 non-null  int64 \n",
            "dtypes: int64(3), object(1)\n",
            "memory usage: 4.8+ MB\n"
          ],
          "name": "stdout"
        }
      ]
    },
    {
      "cell_type": "code",
      "metadata": {
        "id": "bEM6In8yYi1d",
        "colab_type": "code",
        "colab": {
          "base_uri": "https://localhost:8080/",
          "height": 218
        },
        "outputId": "7759357f-98cf-4100-9a3b-d13297d0e460"
      },
      "source": [
        "print(train[\"SentenceId\"].value_counts())"
      ],
      "execution_count": null,
      "outputs": [
        {
          "output_type": "stream",
          "text": [
            "1       63\n",
            "5555    63\n",
            "509     59\n",
            "625     58\n",
            "403     57\n",
            "        ..\n",
            "8451     1\n",
            "5718     1\n",
            "3560     1\n",
            "1666     1\n",
            "1178     1\n",
            "Name: SentenceId, Length: 8529, dtype: int64\n"
          ],
          "name": "stdout"
        }
      ]
    },
    {
      "cell_type": "code",
      "metadata": {
        "id": "o0K9Rp_xYzAe",
        "colab_type": "code",
        "colab": {
          "base_uri": "https://localhost:8080/",
          "height": 497
        },
        "outputId": "4d664551-6efa-4143-8050-07452d7607c4"
      },
      "source": [
        "print(train[\"Sentiment\"].unique())\n",
        "\n",
        "plt.rcParams['figure.figsize'] = (13, 7)\n",
        "\n",
        "#sns.set(style=\"white\")\n",
        "\n",
        "sns.countplot(train[\"Sentiment\"], palette='deep')\n",
        "\n",
        "plt.title('Sentiment count in train set', fontsize = 20)"
      ],
      "execution_count": null,
      "outputs": [
        {
          "output_type": "stream",
          "text": [
            "[1 2 3 4 0]\n"
          ],
          "name": "stdout"
        },
        {
          "output_type": "execute_result",
          "data": {
            "text/plain": [
              "Text(0.5, 1.0, 'Sentiment count in train set')"
            ]
          },
          "metadata": {
            "tags": []
          },
          "execution_count": 8
        },
        {
          "output_type": "display_data",
          "data": {
            "image/png": "[encoded data removed]",
            "text/plain": [
              "<Figure size 936x504 with 1 Axes>"
            ]
          },
          "metadata": {
            "tags": [],
            "needs_background": "light"
          }
        }
      ]
    },
    {
      "cell_type": "code",
      "metadata": {
        "id": "TQHstck9ZJuU",
        "colab_type": "code",
        "colab": {}
      },
      "source": [
        "def Preprocess(df):\n",
        "\n",
        "\n",
        "    for i in df['Phrase']:\n",
        "        tokenizer = nltk.RegexpTokenizer(r\"\\w+\")\n",
        "        i = tokenizer.tokenize(i)\n",
        "\n",
        "        \n",
        "#---------------------------------------------------------------------------------------------------------------\n",
        "        \n",
        "    tokenized_review_1 = df['Phrase'].apply(lambda x: x.split())\n",
        "    \n",
        "\n",
        "\n",
        "#---------------------------------------------------------------------------------------------------------------\n",
        "\n",
        "\n",
        "\n",
        "    ps = PorterStemmer()\n",
        "    WL = WordNetLemmatizer()\n",
        "\n",
        "    stemmed_review = tokenized_review_1.apply(lambda x: [ps.stem(i) for i in x])\n",
        "    lemmatized_review = tokenized_review_1.apply(lambda x: [WL.lemmatize(i) for i in x])\n",
        "\n",
        "\n",
        "#---------------------------------------------------------------------------------------------------------------\n",
        "\n",
        "\n",
        "    stop = stopwords.words('english')\n",
        "    stemmed_review = stemmed_review.apply(lambda x: [item for item in x if item not in stop])\n",
        "    lemmatized_review = lemmatized_review.apply(lambda x: [item for item in x if item not in stop])\n",
        "\n",
        "    \n",
        "\n",
        "\n",
        "\n",
        "#---------------------------------------------------------------------------------------------------------------\n",
        "\n",
        "    for i in range(len(stemmed_review)):\n",
        "        stemmed_review[i] = ' '.join(stemmed_review[i])\n",
        "\n",
        "    df['stemmed_review'] = stemmed_review\n",
        "\n",
        "    \n",
        "    for i in range(len(lemmatized_review)):\n",
        "        lemmatized_review[i] = ' '.join(lemmatized_review[i])\n",
        "\n",
        "    df['lemmatized_review'] = lemmatized_review\n",
        "\n",
        "\n",
        "\n",
        "    df = df[df[\"stemmed_review\"] != '']\n",
        "    df = df[df[\"lemmatized_review\"] != '']"
      ],
      "execution_count": null,
      "outputs": []
    },
    {
      "cell_type": "code",
      "metadata": {
        "id": "LxGZh1kTZ8pb",
        "colab_type": "code",
        "colab": {}
      },
      "source": [
        "Preprocess(train)"
      ],
      "execution_count": null,
      "outputs": []
    },
    {
      "cell_type": "code",
      "metadata": {
        "id": "uDgU--4cbCY8",
        "colab_type": "code",
        "colab": {
          "base_uri": "https://localhost:8080/",
          "height": 229
        },
        "outputId": "b6ea8b8f-d283-4cfa-9483-a95fa7ba50e8"
      },
      "source": [
        "train.head()"
      ],
      "execution_count": null,
      "outputs": [
        {
          "output_type": "execute_result",
          "data": {
            "text/html": [
              "<div>\n",
              "<style scoped>\n",
              "    .dataframe tbody tr th:only-of-type {\n",
              "        vertical-align: middle;\n",
              "    }\n",
              "\n",
              "    .dataframe tbody tr th {\n",
              "        vertical-align: top;\n",
              "    }\n",
              "\n",
              "    .dataframe thead th {\n",
              "        text-align: right;\n",
              "    }\n",
              "</style>\n",
              "<table border=\"1\" class=\"dataframe\">\n",
              "  <thead>\n",
              "    <tr style=\"text-align: right;\">\n",
              "      <th></th>\n",
              "      <th>PhraseId</th>\n",
              "      <th>SentenceId</th>\n",
              "      <th>Phrase</th>\n",
              "      <th>Sentiment</th>\n",
              "      <th>stemmed_review</th>\n",
              "      <th>lemmatized_review</th>\n",
              "    </tr>\n",
              "  </thead>\n",
              "  <tbody>\n",
              "    <tr>\n",
              "      <th>0</th>\n",
              "      <td>1</td>\n",
              "      <td>1</td>\n",
              "      <td>A series of escapades demonstrating the adage ...</td>\n",
              "      <td>1</td>\n",
              "      <td>A seri escapad demonstr adag good goos also go...</td>\n",
              "      <td>A series escapade demonstrating adage good goo...</td>\n",
              "    </tr>\n",
              "    <tr>\n",
              "      <th>1</th>\n",
              "      <td>2</td>\n",
              "      <td>1</td>\n",
              "      <td>A series of escapades demonstrating the adage ...</td>\n",
              "      <td>2</td>\n",
              "      <td>A seri escapad demonstr adag good goos</td>\n",
              "      <td>A series escapade demonstrating adage good goose</td>\n",
              "    </tr>\n",
              "    <tr>\n",
              "      <th>2</th>\n",
              "      <td>3</td>\n",
              "      <td>1</td>\n",
              "      <td>A series</td>\n",
              "      <td>2</td>\n",
              "      <td>A seri</td>\n",
              "      <td>A series</td>\n",
              "    </tr>\n",
              "    <tr>\n",
              "      <th>3</th>\n",
              "      <td>4</td>\n",
              "      <td>1</td>\n",
              "      <td>A</td>\n",
              "      <td>2</td>\n",
              "      <td>A</td>\n",
              "      <td>A</td>\n",
              "    </tr>\n",
              "    <tr>\n",
              "      <th>4</th>\n",
              "      <td>5</td>\n",
              "      <td>1</td>\n",
              "      <td>series</td>\n",
              "      <td>2</td>\n",
              "      <td>seri</td>\n",
              "      <td>series</td>\n",
              "    </tr>\n",
              "  </tbody>\n",
              "</table>\n",
              "</div>"
            ],
            "text/plain": [
              "   PhraseId  ...                                  lemmatized_review\n",
              "0         1  ...  A series escapade demonstrating adage good goo...\n",
              "1         2  ...   A series escapade demonstrating adage good goose\n",
              "2         3  ...                                           A series\n",
              "3         4  ...                                                  A\n",
              "4         5  ...                                             series\n",
              "\n",
              "[5 rows x 6 columns]"
            ]
          },
          "metadata": {
            "tags": []
          },
          "execution_count": 19
        }
      ]
    },
    {
      "cell_type": "code",
      "metadata": {
        "id": "O9IKB267bKhz",
        "colab_type": "code",
        "colab": {
          "base_uri": "https://localhost:8080/",
          "height": 222
        },
        "outputId": "ebb3a67f-24a9-4f66-ddd0-eb1a8f7fa61b"
      },
      "source": [
        "print(\"normal\")\n",
        "print(\"-\"*100)\n",
        "\n",
        "print(train['Phrase'][0])\n",
        "print(\"\\nafter stemming\")\n",
        "print(\"-\"*100)\n",
        "\n",
        "print(train['stemmed_review'][0])\n",
        "\n",
        "print(\"\\nafter lemmatizing\")\n",
        "print(\"-\"*100)\n",
        "print(train['lemmatized_review'][0])"
      ],
      "execution_count": null,
      "outputs": [
        {
          "output_type": "stream",
          "text": [
            "normal\n",
            "----------------------------------------------------------------------------------------------------\n",
            "A series of escapades demonstrating the adage that what is good for the goose is also good for the gander , some of which occasionally amuses but none of which amounts to much of a story .\n",
            "\n",
            "after stemming\n",
            "----------------------------------------------------------------------------------------------------\n",
            "A seri escapad demonstr adag good goos also good gander , occasion amus none amount much stori .\n",
            "\n",
            "after lemmatizing\n",
            "----------------------------------------------------------------------------------------------------\n",
            "A series escapade demonstrating adage good goose also good gander , occasionally amuses none amount much story .\n"
          ],
          "name": "stdout"
        }
      ]
    },
    {
      "cell_type": "markdown",
      "metadata": {
        "id": "VHIdvZiGbPeG",
        "colab_type": "text"
      },
      "source": [
        "plot_train = train.copy()\n",
        "plot_train"
      ]
    },
    {
      "cell_type": "code",
      "metadata": {
        "id": "zsrydcbUbZkL",
        "colab_type": "code",
        "colab": {
          "base_uri": "https://localhost:8080/",
          "height": 34
        },
        "outputId": "7c87c67c-ed8d-49c0-cf23-9c519eedf2b6"
      },
      "source": [
        "plot_train[\"Sentiment\"].unique()"
      ],
      "execution_count": null,
      "outputs": [
        {
          "output_type": "execute_result",
          "data": {
            "text/plain": [
              "array([1, 2, 3, 4, 0])"
            ]
          },
          "metadata": {
            "tags": []
          },
          "execution_count": 22
        }
      ]
    },
    {
      "cell_type": "code",
      "metadata": {
        "id": "CrB4hRzgbn2g",
        "colab_type": "code",
        "colab": {}
      },
      "source": [
        "positive_words = plot_train[plot_train[\"Sentiment\"] !=  0 ]\n",
        "positive_words = positive_words[positive_words[\"Sentiment\"] !=  1 ]\n",
        "positive_words = positive_words[positive_words[\"Sentiment\"] !=  2 ]\n",
        "\n",
        "\n",
        "\n",
        "negative_words = plot_train[plot_train[\"Sentiment\"] !=  3 ]\n",
        "negative_words = negative_words[negative_words[\"Sentiment\"] !=  4 ]\n",
        "negative_words = negative_words[negative_words[\"Sentiment\"] !=  2 ]"
      ],
      "execution_count": null,
      "outputs": []
    },
    {
      "cell_type": "code",
      "metadata": {
        "id": "XoMCASk2bp3s",
        "colab_type": "code",
        "colab": {
          "base_uri": "https://localhost:8080/",
          "height": 34
        },
        "outputId": "4ce6bd37-80c5-436b-f85f-ac8ce1b4f7a1"
      },
      "source": [
        "negative_words[\"Sentiment\"].unique()"
      ],
      "execution_count": null,
      "outputs": [
        {
          "output_type": "execute_result",
          "data": {
            "text/plain": [
              "array([1, 0])"
            ]
          },
          "metadata": {
            "tags": []
          },
          "execution_count": 24
        }
      ]
    },
    {
      "cell_type": "code",
      "metadata": {
        "id": "56y_hE0Fbu0o",
        "colab_type": "code",
        "colab": {
          "base_uri": "https://localhost:8080/",
          "height": 50
        },
        "outputId": "a5895862-cf2d-49a4-baff-5729e030ad43"
      },
      "source": [
        "print(negative_words.shape)\n",
        "print(positive_words.shape)"
      ],
      "execution_count": null,
      "outputs": [
        {
          "output_type": "stream",
          "text": [
            "(34345, 6)\n",
            "(42133, 6)\n"
          ],
          "name": "stdout"
        }
      ]
    },
    {
      "cell_type": "code",
      "metadata": {
        "id": "ndRYiDXXb38P",
        "colab_type": "code",
        "colab": {
          "base_uri": "https://localhost:8080/",
          "height": 136
        },
        "outputId": "2c8a8f3e-e145-4dd1-c88d-bc0f148c121d"
      },
      "source": [
        "plot_all_words = ' '.join(text for text in train['lemmatized_review'])\n",
        "\n",
        "plot_positive_words = ' '.join(text for text in positive_words['lemmatized_review'])\n",
        "\n",
        "plot_negative_words = ' '.join(text for text in negative_words['lemmatized_review'])\n",
        "\n",
        "plot_positive_words[0:1000]"
      ],
      "execution_count": null,
      "outputs": [
        {
          "output_type": "execute_result",
          "data": {
            "application/vnd.google.colaboratory.intrinsic": {
              "type": "string"
            },
            "text/plain": [
              "'good goose good amuses This quiet , introspective entertaining independent worth seeking . This quiet , introspective entertaining independent quiet , introspective entertaining independent quiet , introspective entertaining , introspective entertaining introspective entertaining introspective entertaining worth seeking . worth seeking fan A positively thrilling combination ethnography intrigue , betrayal , deceit murder Shakespearean tragedy juicy soap opera . A positively thrilling combination ethnography intrigue , betrayal , deceit murder Shakespearean tragedy juicy soap opera A positively thrilling combination ethnography intrigue , betrayal , deceit murder A positively thrilling combination positively thrilling combination positively thrilling combination thrilling intrigue juicy soap opera juicy soap opera juicy A comedy-drama nearly epic proportion rooted sincere performance title character undergoing midlife crisis . A comedy-drama nearly epic proportion nearly epic proportion'"
            ]
          },
          "metadata": {
            "tags": []
          },
          "execution_count": 26
        }
      ]
    },
    {
      "cell_type": "code",
      "metadata": {
        "id": "Y-Cso9Bpb-Eu",
        "colab_type": "code",
        "colab": {
          "base_uri": "https://localhost:8080/",
          "height": 136
        },
        "outputId": "c15390b8-8aa1-41a9-94aa-e0363aff621f"
      },
      "source": [
        "plot_negative_words[0:1000]"
      ],
      "execution_count": null,
      "outputs": [
        {
          "output_type": "execute_result",
          "data": {
            "application/vnd.google.colaboratory.intrinsic": {
              "type": "string"
            },
            "text/plain": [
              "\"A series escapade demonstrating adage good goose also good gander , occasionally amuses none amount much story . gander , occasionally amuses none amount much story none amount much story none amount much story Even fan Ismail Merchant 's work , I suspect , would hard time sitting one . , I suspect , would hard time sitting one . would hard time sitting one . would hard time sitting one hard time sitting one hard time sitting one hard time hard time sitting one intrigue , betrayal , deceit murder betrayal , deceit murder , deceit murder deceit murder deceit murder Shakespearean tragedy tragedy soap opera Aggressive self-glorification manipulative whitewash . Aggressive self-glorification manipulative whitewash self-glorification manipulative whitewash self-glorification manipulative whitewash manipulative whitewash midlife crisis Narratively , Trouble Every Day plodding mess . , Trouble Every Day plodding mess . Trouble Every Day plodding mess . Trouble plodding mess . plodding mess pl\""
            ]
          },
          "metadata": {
            "tags": []
          },
          "execution_count": 27
        }
      ]
    },
    {
      "cell_type": "code",
      "metadata": {
        "id": "2LSVlLXacPWK",
        "colab_type": "code",
        "colab": {}
      },
      "source": [
        "from sklearn.pipeline import Pipeline\n",
        "from sklearn.feature_extraction.text import CountVectorizer, TfidfTransformer\n",
        "from sklearn.naive_bayes import MultinomialNB\n",
        "\n",
        "pipeline = Pipeline([\n",
        "    ('bow',CountVectorizer(analyzer=\"word\")),  # strings to token integer counts\n",
        "    ('classifier', MultinomialNB()),  # train on TF-IDF vectors w/ Naive Bayes classifier\n",
        "])\n"
      ],
      "execution_count": null,
      "outputs": []
    },
    {
      "cell_type": "code",
      "metadata": {
        "id": "dbsApmfUcjjv",
        "colab_type": "code",
        "colab": {
          "base_uri": "https://localhost:8080/",
          "height": 370
        },
        "outputId": "bcabfce6-5b32-40ca-efe7-db83ca333878"
      },
      "source": [
        "from sklearn.model_selection import train_test_split\n",
        "from sklearn.metrics import confusion_matrix, classification_report,accuracy_score\n",
        "\n",
        "x_train,x_test,y_train,y_test = train_test_split(train['stemmed_review'], train['Sentiment'], test_size=0.2)\n",
        "\n",
        "pipeline.fit(x_train,y_train)\n",
        "predictions = pipeline.predict(x_test)\n",
        "print(classification_report(predictions,y_test))\n",
        "print(\"-\"*100)\n",
        "print(confusion_matrix(predictions,y_test))\n",
        "print(\"-\"*100)\n",
        "print(pipeline.score(x_train,y_train))\n",
        "print(accuracy_score(predictions,y_test))"
      ],
      "execution_count": null,
      "outputs": [
        {
          "output_type": "stream",
          "text": [
            "              precision    recall  f1-score   support\n",
            "\n",
            "           0       0.29      0.48      0.36       860\n",
            "           1       0.41      0.50      0.45      4392\n",
            "           2       0.81      0.68      0.74     18854\n",
            "           3       0.48      0.52      0.50      6068\n",
            "           4       0.28      0.49      0.35      1038\n",
            "\n",
            "    accuracy                           0.61     31212\n",
            "   macro avg       0.45      0.53      0.48     31212\n",
            "weighted avg       0.65      0.61      0.63     31212\n",
            "\n",
            "----------------------------------------------------------------------------------------------------\n",
            "[[  410   315   128     4     3]\n",
            " [  652  2215  1238   256    31]\n",
            " [  328  2615 12766  2830   315]\n",
            " [   34   302  1572  3175   985]\n",
            " [    4    17   132   379   506]]\n",
            "----------------------------------------------------------------------------------------------------\n",
            "0.6590333845956683\n",
            "0.6110470331923619\n"
          ],
          "name": "stdout"
        }
      ]
    },
    {
      "cell_type": "code",
      "metadata": {
        "id": "SKYSu_jscxtH",
        "colab_type": "code",
        "colab": {
          "base_uri": "https://localhost:8080/",
          "height": 370
        },
        "outputId": "095f5c65-4d9d-4572-e8c9-4638b81e763f"
      },
      "source": [
        "from sklearn.model_selection import train_test_split\n",
        "from sklearn.metrics import confusion_matrix, classification_report,accuracy_score\n",
        "\n",
        "x_train,x_test,y_train,y_test = train_test_split(train['lemmatized_review'], train['Sentiment'], test_size=0.2)\n",
        "\n",
        "pipeline.fit(x_train,y_train)\n",
        "predictions = pipeline.predict(x_test)\n",
        "print(classification_report(predictions,y_test))\n",
        "print(\"-\"*100)\n",
        "print(confusion_matrix(predictions,y_test))\n",
        "print(\"-\"*100)\n",
        "print(pipeline.score(x_train,y_train))\n",
        "print(accuracy_score(predictions,y_test))"
      ],
      "execution_count": null,
      "outputs": [
        {
          "output_type": "stream",
          "text": [
            "              precision    recall  f1-score   support\n",
            "\n",
            "           0       0.29      0.45      0.35       951\n",
            "           1       0.41      0.49      0.45      4555\n",
            "           2       0.79      0.69      0.73     18321\n",
            "           3       0.48      0.51      0.50      6262\n",
            "           4       0.29      0.47      0.36      1123\n",
            "\n",
            "    accuracy                           0.61     31212\n",
            "   macro avg       0.45      0.52      0.48     31212\n",
            "weighted avg       0.64      0.61      0.62     31212\n",
            "\n",
            "----------------------------------------------------------------------------------------------------\n",
            "[[  428   356   153    13     1]\n",
            " [  651  2231  1401   247    25]\n",
            " [  334  2462 12556  2689   280]\n",
            " [   49   323  1730  3172   988]\n",
            " [    8    21   130   433   531]]\n",
            "----------------------------------------------------------------------------------------------------\n",
            "0.6711040625400487\n",
            "0.6061130334486736\n"
          ],
          "name": "stdout"
        }
      ]
    },
    {
      "cell_type": "code",
      "metadata": {
        "id": "Rz2ydu_zc6JP",
        "colab_type": "code",
        "colab": {
          "base_uri": "https://localhost:8080/",
          "height": 195
        },
        "outputId": "b41e977e-45bb-4653-9c66-50e1a45d0294"
      },
      "source": [
        "Preprocess(test)\n",
        "\n",
        "test.head()"
      ],
      "execution_count": null,
      "outputs": [
        {
          "output_type": "execute_result",
          "data": {
            "text/html": [
              "<div>\n",
              "<style scoped>\n",
              "    .dataframe tbody tr th:only-of-type {\n",
              "        vertical-align: middle;\n",
              "    }\n",
              "\n",
              "    .dataframe tbody tr th {\n",
              "        vertical-align: top;\n",
              "    }\n",
              "\n",
              "    .dataframe thead th {\n",
              "        text-align: right;\n",
              "    }\n",
              "</style>\n",
              "<table border=\"1\" class=\"dataframe\">\n",
              "  <thead>\n",
              "    <tr style=\"text-align: right;\">\n",
              "      <th></th>\n",
              "      <th>PhraseId</th>\n",
              "      <th>SentenceId</th>\n",
              "      <th>Phrase</th>\n",
              "      <th>stemmed_review</th>\n",
              "      <th>lemmatized_review</th>\n",
              "    </tr>\n",
              "  </thead>\n",
              "  <tbody>\n",
              "    <tr>\n",
              "      <th>0</th>\n",
              "      <td>156061</td>\n",
              "      <td>8545</td>\n",
              "      <td>An intermittently pleasing but mostly routine ...</td>\n",
              "      <td>An intermitt pleas mostli routin effort .</td>\n",
              "      <td>An intermittently pleasing mostly routine effo...</td>\n",
              "    </tr>\n",
              "    <tr>\n",
              "      <th>1</th>\n",
              "      <td>156062</td>\n",
              "      <td>8545</td>\n",
              "      <td>An intermittently pleasing but mostly routine ...</td>\n",
              "      <td>An intermitt pleas mostli routin effort</td>\n",
              "      <td>An intermittently pleasing mostly routine effort</td>\n",
              "    </tr>\n",
              "    <tr>\n",
              "      <th>2</th>\n",
              "      <td>156063</td>\n",
              "      <td>8545</td>\n",
              "      <td>An</td>\n",
              "      <td>An</td>\n",
              "      <td>An</td>\n",
              "    </tr>\n",
              "    <tr>\n",
              "      <th>3</th>\n",
              "      <td>156064</td>\n",
              "      <td>8545</td>\n",
              "      <td>intermittently pleasing but mostly routine effort</td>\n",
              "      <td>intermitt pleas mostli routin effort</td>\n",
              "      <td>intermittently pleasing mostly routine effort</td>\n",
              "    </tr>\n",
              "    <tr>\n",
              "      <th>4</th>\n",
              "      <td>156065</td>\n",
              "      <td>8545</td>\n",
              "      <td>intermittently pleasing but mostly routine</td>\n",
              "      <td>intermitt pleas mostli routin</td>\n",
              "      <td>intermittently pleasing mostly routine</td>\n",
              "    </tr>\n",
              "  </tbody>\n",
              "</table>\n",
              "</div>"
            ],
            "text/plain": [
              "   PhraseId  ...                                  lemmatized_review\n",
              "0    156061  ...  An intermittently pleasing mostly routine effo...\n",
              "1    156062  ...   An intermittently pleasing mostly routine effort\n",
              "2    156063  ...                                                 An\n",
              "3    156064  ...      intermittently pleasing mostly routine effort\n",
              "4    156065  ...             intermittently pleasing mostly routine\n",
              "\n",
              "[5 rows x 5 columns]"
            ]
          },
          "metadata": {
            "tags": []
          },
          "execution_count": 32
        }
      ]
    },
    {
      "cell_type": "code",
      "metadata": {
        "id": "AVrkZaN1dA8L",
        "colab_type": "code",
        "colab": {}
      },
      "source": [
        "x_train_n_b = train[\"stemmed_review\"]\n",
        "y_train_n_b = train[\"Sentiment\"]\n",
        "x_test_n_b = test[\"stemmed_review\"]"
      ],
      "execution_count": null,
      "outputs": []
    },
    {
      "cell_type": "code",
      "metadata": {
        "id": "x03hWIh1dCW1",
        "colab_type": "code",
        "colab": {
          "base_uri": "https://localhost:8080/",
          "height": 34
        },
        "outputId": "dfc11709-586b-41f7-e077-cf8561c9e0c0"
      },
      "source": [
        "pipeline.fit(x_train_n_b,y_train_n_b)\n",
        "predictions = pipeline.predict(x_test_n_b)\n",
        "\n",
        "print(pipeline.score(x_train_n_b,y_train_n_b))"
      ],
      "execution_count": null,
      "outputs": [
        {
          "output_type": "stream",
          "text": [
            "0.6554273997180572\n"
          ],
          "name": "stdout"
        }
      ]
    },
    {
      "cell_type": "code",
      "metadata": {
        "id": "eWiBGcs_dLQn",
        "colab_type": "code",
        "colab": {
          "base_uri": "https://localhost:8080/",
          "height": 118
        },
        "outputId": "ac56fb1b-8134-438c-c350-18688abb637c"
      },
      "source": [
        "test[\"Sentiment\"] = predictions\n",
        "test[\"Sentiment\"].value_counts()"
      ],
      "execution_count": null,
      "outputs": [
        {
          "output_type": "execute_result",
          "data": {
            "text/plain": [
              "2    44112\n",
              "3    12166\n",
              "1     7532\n",
              "4     1631\n",
              "0      851\n",
              "Name: Sentiment, dtype: int64"
            ]
          },
          "metadata": {
            "tags": []
          },
          "execution_count": 35
        }
      ]
    },
    {
      "cell_type": "code",
      "metadata": {
        "id": "FPvtxgREdQsN",
        "colab_type": "code",
        "colab": {}
      },
      "source": [
        "n_b_data = pd.concat([train, test], ignore_index=True)"
      ],
      "execution_count": null,
      "outputs": []
    },
    {
      "cell_type": "code",
      "metadata": {
        "id": "VkFbgWSTdYC6",
        "colab_type": "code",
        "colab": {
          "base_uri": "https://localhost:8080/",
          "height": 370
        },
        "outputId": "9bc355b2-c0e0-4c1d-e387-3c03cca79686"
      },
      "source": [
        "from sklearn.model_selection import train_test_split\n",
        "from sklearn.metrics import confusion_matrix, classification_report,accuracy_score\n",
        "\n",
        "x_train,x_test,y_train,y_test = train_test_split(n_b_data['stemmed_review'], n_b_data['Sentiment'], test_size=0.2, random_state=42)\n",
        "\n",
        "pipeline.fit(x_train,y_train)\n",
        "n_b_predictions = pipeline.predict(x_test)\n",
        "print(classification_report(n_b_predictions,y_test))\n",
        "print(\"-\"*100)\n",
        "print(confusion_matrix(n_b_predictions,y_test))\n",
        "print(\"-\"*100)\n",
        "print(pipeline.score(x_train,y_train))\n",
        "print(accuracy_score(n_b_predictions,y_test))"
      ],
      "execution_count": null,
      "outputs": [
        {
          "output_type": "stream",
          "text": [
            "              precision    recall  f1-score   support\n",
            "\n",
            "           0       0.28      0.50      0.36       879\n",
            "           1       0.49      0.60      0.54      5641\n",
            "           2       0.86      0.76      0.81     27941\n",
            "           3       0.59      0.61      0.60      8770\n",
            "           4       0.31      0.56      0.40      1240\n",
            "\n",
            "    accuracy                           0.70     44471\n",
            "   macro avg       0.51      0.61      0.54     44471\n",
            "weighted avg       0.73      0.70      0.71     44471\n",
            "\n",
            "----------------------------------------------------------------------------------------------------\n",
            "[[  439   311   110    14     5]\n",
            " [  656  3388  1351   216    30]\n",
            " [  406  2837 21172  3131   395]\n",
            " [   48   375  1837  5381  1129]\n",
            " [    8    24   168   345   695]]\n",
            "----------------------------------------------------------------------------------------------------\n",
            "0.7302128951377607\n",
            "0.6987699849340019\n"
          ],
          "name": "stdout"
        }
      ]
    }
  ]
}